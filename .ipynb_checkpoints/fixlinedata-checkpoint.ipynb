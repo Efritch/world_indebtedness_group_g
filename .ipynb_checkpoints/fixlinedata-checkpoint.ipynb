{
 "cells": [
  {
   "cell_type": "code",
   "execution_count": 12,
   "metadata": {},
   "outputs": [],
   "source": [
    "from pymongo import MongoClient\n",
    "import pandas as pd\n",
    "import os\n",
    "import csv"
   ]
  },
  {
   "cell_type": "code",
   "execution_count": 2,
   "metadata": {},
   "outputs": [],
   "source": [
    "file_path_1 = os.path.join(\"data\",\"imf_lending_borrowing_data.csv\")"
   ]
  },
  {
   "cell_type": "code",
   "execution_count": 5,
   "metadata": {},
   "outputs": [],
   "source": [
    "lend_borrow = pd.read_csv(file_path_1, encoding=\"utf-8\")"
   ]
  },
  {
   "cell_type": "code",
   "execution_count": 6,
   "metadata": {
    "scrolled": true
   },
   "outputs": [
    {
     "name": "stdout",
     "output_type": "stream",
     "text": [
      "    Net lending/borrowing (also referred as overall balance) (% of GDP)  \\\n",
      "0                                              Algeria                    \n",
      "1                                               Angola                    \n",
      "2                                            Argentina                    \n",
      "3                                            Australia                    \n",
      "4                                              Austria                    \n",
      "..                                                 ...                    \n",
      "124                    Low-Income Developing Countries                    \n",
      "125                Low-Income Developing Latin America                    \n",
      "126                Low-Income Developing Oil Producers                    \n",
      "127                       Low-Income Developing Others                    \n",
      "128           Low-Income Developing Sub-Saharan Africa                    \n",
      "\n",
      "             1990          1991          1992          1993          1994  \\\n",
      "0     3.185425685   3.801042068   0.751453045  -5.915993962  -1.864595939   \n",
      "1         no data       no data       no data       no data       no data   \n",
      "2         no data       no data       no data  -0.024283554  -1.249802355   \n",
      "3    -0.232170356  -2.793843278    -4.7527867  -4.735155611  -3.801474021   \n",
      "4    -2.570026844  -2.945597989  -2.136688259  -4.541946552  -5.013404188   \n",
      "..            ...           ...           ...           ...           ...   \n",
      "124  -2.633945975  -2.785420909  -3.052315145       no data  -4.463116081   \n",
      "125  -2.150641075       no data       no data       no data       no data   \n",
      "126  -2.361828163  -2.806801866  -2.286789197  -9.786598962  -6.793930635   \n",
      "127  -11.16835268  -8.807608278  -9.434752227  -11.94276382  -10.66624885   \n",
      "128       no data  -3.023162612  -2.759878412       no data  -4.182493398   \n",
      "\n",
      "             1995          1996          1997          1998  ...       2016  \\\n",
      "0     0.586636342   3.912373541   2.930436659  -3.576341021  ... -13.051471   \n",
      "1         no data   5.907380357  -0.304461474  -6.709324933  ...  -4.520204   \n",
      "2    -2.074606161  -2.810610432  -1.837621355  -1.827434359  ...  -6.654669   \n",
      "3    -2.610142796  -1.459720571  -0.494019209   -0.24629886  ...  -2.419160   \n",
      "4    -6.140539419   -4.35710811  -2.371827174  -2.668765336  ...  -1.573603   \n",
      "..            ...           ...           ...           ...  ...        ...   \n",
      "124   0.468296411   1.161457457  -0.284966318  -3.149855933  ...  -3.712213   \n",
      "125       no data       no data   0.286846072    1.96023548  ...  -0.721313   \n",
      "126   2.506102233   4.532993991   1.475900292  -4.953644174  ...  -4.714934   \n",
      "127  -4.105024446  -2.420897421  -2.224903663  -3.551316348  ...  -2.985001   \n",
      "128     1.4475633   2.286285309   0.247337884  -3.651918714  ...  -4.250688   \n",
      "\n",
      "         2017      2018      2019          2020          2021          2022  \\\n",
      "0   -6.647062 -4.468083 -5.637875  -11.48734916  -11.37601106  -9.194073361   \n",
      "1   -6.303819  2.188700  0.791854  -2.807504227   -0.12853342     0.9798319   \n",
      "2   -6.693341 -5.516756 -4.467714       no data       no data       no data   \n",
      "3   -1.716500 -1.234561 -3.893536  -10.06371033  -10.45578637  -6.220475204   \n",
      "4   -0.699195  0.197711  0.734743  -9.900176354  -3.944859107  -2.291456535   \n",
      "..        ...       ...       ...           ...           ...           ...   \n",
      "124 -3.614389 -3.440993 -3.998711  -6.222847027  -5.078224327  -4.482315628   \n",
      "125 -0.680710 -1.093089 -0.504257  -3.933445481  -3.097807647  -0.962969034   \n",
      "126 -5.365944 -4.120270 -4.502675  -6.661528865  -4.875146106  -4.923023803   \n",
      "127 -2.770038 -3.034534 -3.746980   -6.10813786  -3.883036046  -2.523010577   \n",
      "128 -4.482895 -3.945700 -4.093661   -6.25517182  -4.860462103  -4.422798055   \n",
      "\n",
      "             2023          2024          2025  \n",
      "0    -9.461115527  -9.221874127  -8.590837151  \n",
      "1     1.655740087   1.769714795   1.876637136  \n",
      "2         no data       no data       no data  \n",
      "3    -3.862989348  -2.567812571  -1.978664113  \n",
      "4    -1.751471464  -1.166668504  -0.514703819  \n",
      "..            ...           ...           ...  \n",
      "124  -4.083138678  -3.864544463  -3.658355179  \n",
      "125  -1.078413111  -1.463977785  -1.608285073  \n",
      "126  -4.254845844  -4.308279894  -4.317448201  \n",
      "127  -2.087718409  -1.567586488  -1.348874202  \n",
      "128  -4.006238657  -3.914861948  -3.792784144  \n",
      "\n",
      "[129 rows x 37 columns]\n"
     ]
    }
   ],
   "source": [
    "print(lend_borrow)"
   ]
  },
  {
   "cell_type": "code",
   "execution_count": 8,
   "metadata": {},
   "outputs": [],
   "source": [
    "trans_lend_borrow = lend_borrow.T"
   ]
  },
  {
   "cell_type": "code",
   "execution_count": 11,
   "metadata": {},
   "outputs": [
    {
     "name": "stdout",
     "output_type": "stream",
     "text": [
      "Algeria\n"
     ]
    }
   ],
   "source": [
    "print(trans_lend_borrow[0][\"Net lending/borrowing (also referred as overall balance) (% of GDP)\"])"
   ]
  },
  {
   "cell_type": "code",
   "execution_count": 13,
   "metadata": {},
   "outputs": [
    {
     "ename": "NameError",
     "evalue": "name 'my_data' is not defined",
     "output_type": "error",
     "traceback": [
      "\u001b[1;31m---------------------------------------------------------------------------\u001b[0m",
      "\u001b[1;31mNameError\u001b[0m                                 Traceback (most recent call last)",
      "\u001b[1;32m<ipython-input-13-80da367fdf42>\u001b[0m in \u001b[0;36m<module>\u001b[1;34m\u001b[0m\n\u001b[0;32m      6\u001b[0m         \u001b[0mwriter\u001b[0m \u001b[1;33m=\u001b[0m \u001b[0mcsv\u001b[0m\u001b[1;33m.\u001b[0m\u001b[0mDictWriter\u001b[0m\u001b[1;33m(\u001b[0m\u001b[0mcsvfile\u001b[0m\u001b[1;33m,\u001b[0m \u001b[0mfieldnames\u001b[0m\u001b[1;33m=\u001b[0m\u001b[0mcsv_columns\u001b[0m\u001b[1;33m)\u001b[0m\u001b[1;33m\u001b[0m\u001b[1;33m\u001b[0m\u001b[0m\n\u001b[0;32m      7\u001b[0m         \u001b[0mwriter\u001b[0m\u001b[1;33m.\u001b[0m\u001b[0mwriteheader\u001b[0m\u001b[1;33m(\u001b[0m\u001b[1;33m)\u001b[0m\u001b[1;33m\u001b[0m\u001b[1;33m\u001b[0m\u001b[0m\n\u001b[1;32m----> 8\u001b[1;33m         \u001b[1;32mfor\u001b[0m \u001b[0mdata\u001b[0m \u001b[1;32min\u001b[0m \u001b[0mmy_data\u001b[0m\u001b[1;33m:\u001b[0m\u001b[1;33m\u001b[0m\u001b[1;33m\u001b[0m\u001b[0m\n\u001b[0m\u001b[0;32m      9\u001b[0m             \u001b[0mwriter\u001b[0m\u001b[1;33m.\u001b[0m\u001b[0mwriterow\u001b[0m\u001b[1;33m(\u001b[0m\u001b[0mdata\u001b[0m\u001b[1;33m)\u001b[0m\u001b[1;33m\u001b[0m\u001b[1;33m\u001b[0m\u001b[0m\n\u001b[0;32m     10\u001b[0m \u001b[1;32mexcept\u001b[0m \u001b[0mIOError\u001b[0m\u001b[1;33m:\u001b[0m\u001b[1;33m\u001b[0m\u001b[1;33m\u001b[0m\u001b[0m\n",
      "\u001b[1;31mNameError\u001b[0m: name 'my_data' is not defined"
     ]
    }
   ],
   "source": [
    "csv_file = os.path.join(\"data\",\"imf_lending_borrowing_data_transposed.csv\")\n",
    "csv_columns = trans_lend_borrow.keys()\n",
    "\n",
    "try:\n",
    "    with open(csv_file, 'w', newline='') as csvfile:\n",
    "        writer = csv.DictWriter(csvfile, fieldnames=csv_columns)\n",
    "        writer.writeheader()\n",
    "        for data in trans_lend_borrow:\n",
    "            writer.writerow(data)\n",
    "except IOError:\n",
    "    print(\"I/O error\")  "
   ]
  },
  {
   "cell_type": "code",
   "execution_count": null,
   "metadata": {},
   "outputs": [],
   "source": []
  }
 ],
 "metadata": {
  "kernelspec": {
   "display_name": "Python [conda env:PythonData]",
   "language": "python",
   "name": "conda-env-PythonData-py"
  },
  "language_info": {
   "codemirror_mode": {
    "name": "ipython",
    "version": 3
   },
   "file_extension": ".py",
   "mimetype": "text/x-python",
   "name": "python",
   "nbconvert_exporter": "python",
   "pygments_lexer": "ipython3",
   "version": "3.6.10"
  }
 },
 "nbformat": 4,
 "nbformat_minor": 2
}
